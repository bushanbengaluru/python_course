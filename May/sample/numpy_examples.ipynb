{
 "cells": [
  {
   "cell_type": "code",
   "execution_count": 1,
   "id": "1de3a00f-54cf-4a5d-a9ca-8a13c2b642b9",
   "metadata": {},
   "outputs": [],
   "source": [
    "import numpy"
   ]
  },
  {
   "cell_type": "code",
   "execution_count": 1,
   "id": "5a1e6f03-0f4e-4d78-b90c-3174580c7937",
   "metadata": {},
   "outputs": [
    {
     "ename": "ModuleNotFoundError",
     "evalue": "No module named 'seatborn'",
     "output_type": "error",
     "traceback": [
      "\u001b[31m---------------------------------------------------------------------------\u001b[39m",
      "\u001b[31mModuleNotFoundError\u001b[39m                       Traceback (most recent call last)",
      "\u001b[36mCell\u001b[39m\u001b[36m \u001b[39m\u001b[32mIn[1]\u001b[39m\u001b[32m, line 2\u001b[39m\n\u001b[32m      1\u001b[39m \u001b[38;5;28;01mimport\u001b[39;00m\u001b[38;5;250m \u001b[39m\u001b[34;01mmatplotlib\u001b[39;00m\u001b[34;01m.\u001b[39;00m\u001b[34;01mpyplot\u001b[39;00m\u001b[38;5;250m \u001b[39m\u001b[38;5;28;01mas\u001b[39;00m\u001b[38;5;250m \u001b[39m\u001b[34;01mp\u001b[39;00m\n\u001b[32m----> \u001b[39m\u001b[32m2\u001b[39m \u001b[38;5;28;01mimport\u001b[39;00m\u001b[38;5;250m \u001b[39m\u001b[34;01mseatborn\u001b[39;00m\u001b[38;5;250m \u001b[39m\u001b[38;5;28;01mas\u001b[39;00m\u001b[38;5;250m \u001b[39m\u001b[34;01msns\u001b[39;00m\n\u001b[32m      3\u001b[39m sns.distplot([\u001b[32m0\u001b[39m,\u001b[32m1\u001b[39m,\u001b[32m2\u001b[39m,\u001b[32m3\u001b[39m,\u001b[32m4\u001b[39m,\u001b[32m5\u001b[39m,\u001b[32m6\u001b[39m], )\n\u001b[32m      4\u001b[39m p.show()\n",
      "\u001b[31mModuleNotFoundError\u001b[39m: No module named 'seatborn'"
     ]
    }
   ],
   "source": [
    "import matplotlib.pyplot as p\n",
    "import seatborn as sns\n",
    "import random\n",
    "sns.distplot([0,1,2,3,4,5,6],hist=False )\n",
    "p.show()"
   ]
  },
  {
   "cell_type": "code",
   "execution_count": 1,
   "id": "85c7256b-cb08-4286-9bb7-0c31d5e30982",
   "metadata": {},
   "outputs": [
    {
     "name": "stdout",
     "output_type": "stream",
     "text": [
      "[13 24 35 46 57]\n"
     ]
    }
   ],
   "source": [
    "import numpy as np\n",
    "x=np.array([10,20,30,40,50])\n",
    "y=np.array([3,4,5,6,7])\n",
    "z=np.add(x,y)\n",
    "print(z)"
   ]
  },
  {
   "cell_type": "code",
   "execution_count": 2,
   "id": "b21cc4ed-8e4a-42fa-943a-5634796d9cdf",
   "metadata": {},
   "outputs": [
    {
     "name": "stdout",
     "output_type": "stream",
     "text": [
      "3.0\n"
     ]
    }
   ],
   "source": [
    "#3.166\n",
    "x=np.around(3.1666)\n",
    "print(x)"
   ]
  },
  {
   "cell_type": "code",
   "execution_count": 3,
   "id": "0dac54f6-67d2-431b-904a-a606ed9d5416",
   "metadata": {},
   "outputs": [
    {
     "name": "stdout",
     "output_type": "stream",
     "text": [
      "[array([1, 2]), array([3, 4]), array([5]), array([6])]\n"
     ]
    }
   ],
   "source": [
    "#list element split 3\n",
    "x=np.array([1,2,3,4,5,6])\n",
    "y=np.array_split(x,4) #dimension\n",
    "print(y)"
   ]
  },
  {
   "cell_type": "code",
   "execution_count": 6,
   "id": "eabf80fd-f422-4061-918d-6159cdbf6a0a",
   "metadata": {},
   "outputs": [
    {
     "name": "stdout",
     "output_type": "stream",
     "text": [
      "[  1   2   6  24 120]\n"
     ]
    }
   ],
   "source": [
    "#1,2,3,4,5 -- 1*1,1*2,1*2*3,1*2*3*4 - cumilative product\n",
    "x = np.array([1,2,3,4,5])\n",
    "y=np.cumprod(x)\n",
    "print(y)"
   ]
  },
  {
   "cell_type": "code",
   "execution_count": 7,
   "id": "1c7c9bda-5ad4-4872-a1f5-d71a28c3361e",
   "metadata": {},
   "outputs": [
    {
     "name": "stdout",
     "output_type": "stream",
     "text": [
      "[3.33333333 5.         6.         6.66666667 7.14285714]\n"
     ]
    }
   ],
   "source": [
    "import numpy as np\n",
    "x=np.array([10,20,30,40,50])\n",
    "y=np.array([3,4,5,6,7])\n",
    "c=np.divide(x,y)\n",
    "print(c)"
   ]
  },
  {
   "cell_type": "code",
   "execution_count": 8,
   "id": "c4123bc3-882a-41f2-8971-68d1bccae673",
   "metadata": {},
   "outputs": [
    {
     "name": "stdout",
     "output_type": "stream",
     "text": [
      "[3. 5. 6. 6. 7.]\n"
     ]
    }
   ],
   "source": [
    "#floor division to consider only whole value\n",
    "import numpy as np\n",
    "x=np.floor([3.33333333,5.0,6.0,6.66666667,7.14285714])\n",
    "print(x)"
   ]
  },
  {
   "cell_type": "code",
   "execution_count": 9,
   "id": "e6a4dc1b-67bc-4309-9320-bf7b6dd4ad6d",
   "metadata": {},
   "outputs": [
    {
     "name": "stdout",
     "output_type": "stream",
     "text": [
      "[1 0 0 4 1]\n"
     ]
    }
   ],
   "source": [
    "#mod division to consider only remainder\n",
    "import numpy as np\n",
    "x=np.array([10,20,30,40,50])\n",
    "y=np.array([3,4,5,6,7])\n",
    "c=np.mod(x,y)\n",
    "print(c)"
   ]
  },
  {
   "cell_type": "code",
   "execution_count": 10,
   "id": "2f984a52-5623-4b92-b1a3-225112164458",
   "metadata": {},
   "outputs": [
    {
     "name": "stdout",
     "output_type": "stream",
     "text": [
      "[ 30  80 150 240 350]\n"
     ]
    }
   ],
   "source": [
    "#multiply\n",
    "import numpy as np\n",
    "x=np.array([10,20,30,40,50])\n",
    "y=np.array([3,4,5,6,7])\n",
    "c=np.multiply(x,y)\n",
    "print(c)"
   ]
  },
  {
   "cell_type": "code",
   "execution_count": 11,
   "id": "e7e5df55-31e9-4847-ba3e-a3ad235e4b11",
   "metadata": {},
   "outputs": [
    {
     "name": "stdout",
     "output_type": "stream",
     "text": [
      "[        1000       160000     24300000   4096000000 781250000000]\n"
     ]
    }
   ],
   "source": [
    "#power\n",
    "import numpy as np\n",
    "x=np.array([10,20,30,40,50])\n",
    "y=np.array([3,4,5,6,7])\n",
    "c=np.power(x,y)\n",
    "print(c)"
   ]
  },
  {
   "cell_type": "code",
   "execution_count": 12,
   "id": "c5658638-b2e2-4aad-884a-2769892de676",
   "metadata": {},
   "outputs": [
    {
     "name": "stdout",
     "output_type": "stream",
     "text": [
      "1\n"
     ]
    }
   ],
   "source": [
    "#based on element find index position\n",
    "import numpy as np\n",
    "x=np.array([6,7,8,9])\n",
    "y=np.searchsorted(x,7)\n",
    "print(y)\n"
   ]
  },
  {
   "cell_type": "code",
   "execution_count": 13,
   "id": "269e8d76-f366-4211-8539-edf141c85ce8",
   "metadata": {},
   "outputs": [
    {
     "name": "stdout",
     "output_type": "stream",
     "text": [
      "2\n"
     ]
    }
   ],
   "source": [
    "#based on element find index position, find using right side counting\n",
    "import numpy as np\n",
    "x=np.array([6,7,8,9])\n",
    "y=np.searchsorted(x,7, side='right')\n",
    "print(y)\n"
   ]
  },
  {
   "cell_type": "code",
   "execution_count": 15,
   "id": "10020ebc-50b5-4130-90c3-b0850b06e13d",
   "metadata": {},
   "outputs": [
    {
     "name": "stdout",
     "output_type": "stream",
     "text": [
      "[ 7 16 25 34 43]\n"
     ]
    }
   ],
   "source": [
    "#subtraction\n",
    "import numpy as np\n",
    "x=np.array([10,20,30,40,50])\n",
    "y=np.array([3,4,5,6,7])\n",
    "c=np.subtract(x,y)\n",
    "print(c)"
   ]
  },
  {
   "cell_type": "code",
   "execution_count": 18,
   "id": "61ba70b6-e544-41fd-afb2-511e60b79835",
   "metadata": {},
   "outputs": [
    {
     "data": {
      "image/png": "[encoded data removed]",
      "text/plain": [
       "<Figure size 640x480 with 1 Axes>"
      ]
     },
     "metadata": {},
     "output_type": "display_data"
    }
   ],
   "source": [
    "import matplotlib.pyplot as p\n",
    "import numpy\n",
    "import random\n",
    "\n",
    "x=np.random.uniform(0.0,5.0,250)\n",
    "p.hist(x,10)\n",
    "p.show()"
   ]
  },
  {
   "cell_type": "code",
   "execution_count": 20,
   "id": "3cb77ac7-d939-4cd5-9abc-3a75caa3a904",
   "metadata": {
    "scrolled": true
   },
   "outputs": [
    {
     "name": "stdout",
     "output_type": "stream",
     "text": [
      "  productname  rating\n",
      "0      lenovo       5\n",
      "1        dell       1\n",
      "2          hp       0\n"
     ]
    }
   ],
   "source": [
    "#pandas - python module which is used to analysis of data set\n",
    "import pandas as p\n",
    "mydataset={'productname':['lenovo','dell','hp'],\n",
    "           'rating':[5,1,0]\n",
    "          }\n",
    "x=p.DataFrame(mydataset)\n",
    "print(x)="
   ]
  },
  {
   "cell_type": "code",
   "execution_count": 24,
   "id": "a9697623-477c-4d45-80f3-8b66cc721806",
   "metadata": {},
   "outputs": [
    {
     "name": "stdout",
     "output_type": "stream",
     "text": [
      "1\n"
     ]
    }
   ],
   "source": [
    "x=[1,7,2]\n",
    "a=p.Series(x, index=['lenovo','dell','hp'])\n",
    "print(a['lenovo']) # This will print index position named 'lenovo' and prints values"
   ]
  },
  {
   "cell_type": "code",
   "execution_count": null,
   "id": "092234b1-ca5a-40e8-87b1-1d3b7432d23a",
   "metadata": {},
   "outputs": [],
   "source": []
  },
  {
   "cell_type": "code",
   "execution_count": null,
   "id": "fe747a09-2879-4bfd-8762-c1bdcf0d34bb",
   "metadata": {},
   "outputs": [],
   "source": []
  }
 ],
 "metadata": {
  "kernelspec": {
   "display_name": "Python 3 (ipykernel)",
   "language": "python",
   "name": "python3"
  },
  "language_info": {
   "codemirror_mode": {
    "name": "ipython",
    "version": 3
   },
   "file_extension": ".py",
   "mimetype": "text/x-python",
   "name": "python",
   "nbconvert_exporter": "python",
   "pygments_lexer": "ipython3",
   "version": "3.13.2"
  }
 },
 "nbformat": 4,
 "nbformat_minor": 5
}
