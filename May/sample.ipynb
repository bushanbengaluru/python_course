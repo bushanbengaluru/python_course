{
 "cells": [
  {
   "cell_type": "code",
   "execution_count": 3,
   "id": "622b9c2f-8398-4604-af43-f2f5589e676a",
   "metadata": {},
   "outputs": [
    {
     "ename": "ModuleNotFoundError",
     "evalue": "No module named 'matplotlib'",
     "output_type": "error",
     "traceback": [
      "\u001b[31m---------------------------------------------------------------------------\u001b[39m",
      "\u001b[31mModuleNotFoundError\u001b[39m                       Traceback (most recent call last)",
      "\u001b[36mCell\u001b[39m\u001b[36m \u001b[39m\u001b[32mIn[3]\u001b[39m\u001b[32m, line 6\u001b[39m\n\u001b[32m      1\u001b[39m \u001b[38;5;66;03m# python library -- clases and methods\u001b[39;00m\n\u001b[32m      2\u001b[39m \u001b[38;5;66;03m# numpy, pandas, matplotlib\u001b[39;00m\n\u001b[32m      3\u001b[39m \u001b[38;5;66;03m# matplotlib: to draw graphs\u001b[39;00m\n\u001b[32m      4\u001b[39m \u001b[38;5;66;03m# install: pip install matplotlib\u001b[39;00m\n\u001b[32m      5\u001b[39m \u001b[38;5;66;03m# graph: x-axis y-axis\u001b[39;00m\n\u001b[32m----> \u001b[39m\u001b[32m6\u001b[39m \u001b[38;5;28;01mimport\u001b[39;00m\u001b[38;5;250m \u001b[39m\u001b[34;01mmatplotlib\u001b[39;00m\u001b[34;01m.\u001b[39;00m\u001b[34;01mpyplot\u001b[39;00m\u001b[38;5;250m \u001b[39m\u001b[38;5;28;01mas\u001b[39;00m\u001b[38;5;250m \u001b[39m\u001b[34;01mp\u001b[39;00m\n",
      "\u001b[31mModuleNotFoundError\u001b[39m: No module named 'matplotlib'"
     ]
    }
   ],
   "source": [
    "# python library -- clases and methods\n",
    "# numpy, pandas, matplotlib\n",
    "# matplotlib: to draw graphs\n",
    "# install: pip install matplotlib\n",
    "# graph: x-axis y-axis\n",
    "import matplotlib.pyplot as p"
   ]
  },
  {
   "cell_type": "code",
   "execution_count": null,
   "id": "a8849eeb-b845-4016-928a-dc73382c4132",
   "metadata": {},
   "outputs": [],
   "source": []
  }
 ],
 "metadata": {
  "kernelspec": {
   "display_name": "Python 3 (ipykernel)",
   "language": "python",
   "name": "python3"
  },
  "language_info": {
   "codemirror_mode": {
    "name": "ipython",
    "version": 3
   },
   "file_extension": ".py",
   "mimetype": "text/x-python",
   "name": "python",
   "nbconvert_exporter": "python",
   "pygments_lexer": "ipython3",
   "version": "3.13.2"
  }
 },
 "nbformat": 4,
 "nbformat_minor": 5
}
